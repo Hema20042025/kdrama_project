{
 "cells": [
  {
   "cell_type": "code",
   "execution_count": 1,
   "id": "ffa401e7-7d0e-4492-bbc7-cdafee0a932b",
   "metadata": {},
   "outputs": [],
   "source": [
    "import pandas as pd\n",
    "from random import choice"
   ]
  },
  {
   "cell_type": "code",
   "execution_count": 2,
   "id": "2b7e4f4d-ebc8-4aa0-ad50-d6a608785515",
   "metadata": {},
   "outputs": [
    {
     "name": "stdin",
     "output_type": "stream",
     "text": [
      "choose the genre to watch: romance\n"
     ]
    },
    {
     "name": "stdout",
     "output_type": "stream",
     "text": [
      " The K2\n"
     ]
    }
   ],
   "source": [
    "# selecting the dramas based on the genre you want\n",
    "\n",
    "\n",
    "data1=['Its Okay, Thats Love','The Lover','Oh My Ghost','Cheese In Trap','Another Miss Oh','Uncontrollably Fond','Reply 1997',\n",
    "     'Age of Youth','Fight for My Way','Dont Dare to Dream','Because This Is My First Life','20th Century Boy and Girl']\n",
    "\n",
    "data2=['Moon Lovers: Scarlet Heart Ryeo','Leverage','Moorim School','Moving','100 Days My Prince','Arthdal Chronicles',' Tomorrow',\n",
    "        'Bad and Crazy','Dark Hole','Night Blooming Flower',' Little Women','w']\n",
    "\n",
    "\n",
    "data3=['Bring It On, Ghost','Nightmare Teacher','The Masters Sun','White Christmas','Sell Your Haunted House','Hotel Del Luna','The Uncanny Counter',\n",
    "        ' Sweet Home',' A Korean Odyssey ',' Hell Is Other People',' Lovely Horribly',' Night Has Come',]\n",
    "\n",
    "data4=['Moon Lovers: Scarlet Heart Ryeo ','Cheese in the Trap',' Age of Youth',' Come and Hug Me','Fight for My Way ',' Dont Dare to Dream',\n",
    "       ' The K2','Drinking Solo',' My Unfortunate Boyfriend','Haereul poomeun dal','Girls Generation 1979 ',' Beautiful Mind ']\n",
    "\n",
    "data5=['Im Not a Robot','Life on Mars',' Strong Girl Bong-soon',' Circle ',' Memories of the Alhambra ',' Dr. Brain',' My Holo Love',' Are You Human Too?'\n",
    "       , 'Please Dont Date Him','The Silent Sea ','A Time Called You' ,'Melting Me Softly' ] \n",
    "\n",
    "genres=pd.DataFrame({\"comedy\":[data1],\"action\":[data2],\"horror\":[data3],\"romance\":[data4],\"scifi\":[data5]})\n",
    "\n",
    "gen=input(\"choose the genre to watch:\")\n",
    "if(gen=='comedy'):\n",
    "    print(choice(genres.comedy[0]))\n",
    "elif(gen=='action'):\n",
    "    print(choice(genres.action[0]))\n",
    "elif(gen=='horror'):\n",
    "    print(choice(genres.horror[0]))\n",
    "elif(gen=='sci-fi'):\n",
    "    print(choice(genres.scifi[0]))\n",
    "else:\n",
    "    print(choice(genres.romance[0]))\n",
    "\n",
    "#genre.comedy\n",
    "#genre.action\n"
   ]
  },
  {
   "cell_type": "code",
   "execution_count": 43,
   "id": "cd5958c4-2a6a-4ced-8906-20793ff2819d",
   "metadata": {},
   "outputs": [
    {
     "name": "stdout",
     "output_type": "stream",
     "text": [
      "1.one hour\n",
      "2.two hours\n",
      "3.three hours\n"
     ]
    },
    {
     "name": "stdin",
     "output_type": "stream",
     "text": [
      "select below displayed duration of dramas you want to watch: 5\n"
     ]
    },
    {
     "name": "stdout",
     "output_type": "stream",
     "text": [
      "please enter the given options\n"
     ]
    }
   ],
   "source": [
    "#selecting the dramas based on the duration you want\n",
    "\n",
    "drama1=['The Hymn of Death','The School Nurse Files','My Name','The Silent Sea','Song of the Bandits','The Deal','secret magic'\n",
    "       ,'Queen of ring','20 years old','kingdom']\n",
    "drama2=['The Hymn of Death','The School Nurse Files','My Name','The Silent Sea','A-Teen', 'Song of the Bandits', 'The Deal',\n",
    "       'Crash Landing on You','Whats Wrong With Secretary Kim','Its Okay, Thats Love']\n",
    "drama3=['YOU DRIVE ME CRAZY','QUEEN OF THE RING','SEVEN FIRST KISSES','THE BOY NEXT DOOR','PAGE TURNER','ONE SUNNY DAY','SPLASH SPLASH LOVE'\n",
    "        ,'ANOTHER PARTING','WE BROKE UP','THE WORLD OF THE MARRIED']\n",
    "\n",
    "duration=pd.DataFrame({\"onehour\":[drama1],\"twohours\":[drama2],\"threehours\":[drama3]})\n",
    "\n",
    "print(\"1.one hour\")\n",
    "print(\"2.two hours\")\n",
    "print(\"3.three hours\")\n",
    "\n",
    "time=int(input(\"select below displayed duration of dramas you want to watch:\"))\n",
    "if(time==1):\n",
    "    print(choice(duration.onehour[0]))\n",
    "elif(time==2):\n",
    "    print(choice(duration.twohours[0]))\n",
    "elif(time==3):\n",
    "    print(choice(duration.threehours[0]))\n",
    "else:\n",
    "    print(\"please enter the given options\")\n",
    "\n",
    "\n",
    "\n"
   ]
  },
  {
   "cell_type": "code",
   "execution_count": 44,
   "id": "f24a3ef1-2611-4308-9e33-ed5e2f7e455d",
   "metadata": {},
   "outputs": [
    {
     "name": "stdout",
     "output_type": "stream",
     "text": [
      "1.nam joo-hyuk\n",
      "2.ahn hyo-seop\n",
      "3.lee sung-kyung\n",
      "4.Bae suzy\n",
      "5.Taecyeon\n"
     ]
    },
    {
     "name": "stdin",
     "output_type": "stream",
     "text": [
      "choose the options above: 3\n"
     ]
    },
    {
     "name": "stdout",
     "output_type": "stream",
     "text": [
      "Miss & Mrs Cops\n"
     ]
    }
   ],
   "source": [
    "#selecting the dramas based on the favourite actors and actresses\n",
    "\n",
    "\n",
    "actor1=['Twenty Five Twenty One','Moon Lovers: Scarlet Heart Ryeo','Start Up','Weightlifting Fairy Kim Bok Joo','Remember','The Bride of Habaek',\n",
    "   'Glamorous Temptation','The Great Battle']\n",
    "actor2=['Business Proposal','Dr. Romantic','A Time Called You','Lovers of the Red Sky ','Still 17','Abyss','Running Man' ,'Father Is Strange']\n",
    "\n",
    "actor3=['Call It Love','Shooting Stars','Hateueotaek','Record of Youth','Dr. Romantic','Miss & Mrs Cops','About Time','Love+Sling']\n",
    "\n",
    "actor4=['dream high','Gu Family Book','Uncontrollably Fond','While You Were Sleeping','Vagabond','Start-Up','Anna','Doona']\n",
    "\n",
    "actor5=['dream high','Who Are You?','Wonderful Days','Assembly','Lets Fight, Ghost','Save Me','Secret Royal Inspector & Joy','Vincenzo']\n",
    "\n",
    "\n",
    "\n",
    "cast=pd.DataFrame({\"nam\":[actor1],\"ahn\":[actor2],\"lee\":[actor3],\"bae\":[actor4],\"tae\":[actor5]})\n",
    "\n",
    "print(\"1.nam joo-hyuk\")\n",
    "print(\"2.ahn hyo-seop\")\n",
    "print(\"3.lee sung-kyung\")\n",
    "print(\"4.Bae suzy\")\n",
    "print(\"5.Taecyeon\")\n",
    "\n",
    "\n",
    "\n",
    "actor=int(input(\"choose the options above:\"))\n",
    "\n",
    "\n",
    "if(actor==1):\n",
    "    print(choice(cast.nam[0]))\n",
    "elif(actor==2):\n",
    "    print(choice(cast.ahn[0]))\n",
    "elif(actor==3):\n",
    "    print(choice(cast.lee[0]))\n",
    "elif(actor==4):\n",
    "    print(choice(cast.bae[0]))\n",
    "elif(actor==5):\n",
    "    print(choice(cast.tae[0]))\n",
    "else:\n",
    "    print(\"choose the given options\")\n",
    "\n",
    "\n",
    "\n",
    "\n",
    "\n"
   ]
  },
  {
   "cell_type": "code",
   "execution_count": null,
   "id": "1cab3578-16fd-42ed-9d0c-2a4462a5d734",
   "metadata": {},
   "outputs": [],
   "source": []
  }
 ],
 "metadata": {
  "kernelspec": {
   "display_name": "Python 3 (ipykernel)",
   "language": "python",
   "name": "python3"
  },
  "language_info": {
   "codemirror_mode": {
    "name": "ipython",
    "version": 3
   },
   "file_extension": ".py",
   "mimetype": "text/x-python",
   "name": "python",
   "nbconvert_exporter": "python",
   "pygments_lexer": "ipython3",
   "version": "3.11.7"
  }
 },
 "nbformat": 4,
 "nbformat_minor": 5
}
